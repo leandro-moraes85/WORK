{
 "cells": [
  {
   "cell_type": "markdown",
   "metadata": {},
   "source": [
    "### Northwind Challenge\n",
    "\n",
    "The Northwind database is a sample database that was originally created by Microsoft and used as the basis for their tutorials in a variety of database products for decades. The Northwind database contains the sales data for a fictitious company called “Northwind Traders,” which imports and exports specialty foods from around the world. \n",
    "\n",
    "Attached you will find the challenge’s dataset, corresponding to the Northwind database, tith some slight changes put in place to order ensure we get to the same results. With this in mind, use the provided .pbix file (**exercise_power_bi.pbix**), which contains the source entities. \n",
    "\n",
    "The entities we’ll be using are: \n",
    "- Suppliers: Suppliers and vendors of Northwind  \n",
    "- Customers: Customers who buy products from Northwind  \n",
    "- Employees: Employee details of Northwind traders  \n",
    "- Products: Product information  \n",
    "- Shippers: The details of the shippers who ship the products from the traders to the end-customers  \n",
    "- Orders (with Order_Details appended): Sales Order transactions taking place between the customers & the company \n",
    "\n",
    "\n",
    "#### Challenge Description\n",
    "\n",
    "Based on the attached Power BI file, create the required relationships between tables and answer the following questions using the data provided. \n",
    " \n",
    "Be sure to explain the rationale behind your DAX formulas (or process used to solve the exercise). Consider as active, products that have not been discontinued. \n",
    "\n",
    "\n",
    "Note: Preferably, solve the exercises with DAX. \n",
    "\n",
    "##### Questions\n",
    "\n",
    "1. How many orders were placed over $3000? \n",
    "\n",
    "2. How many active products cost less than 10$? \n",
    "\n",
    "3. How many customers have never placed an order? \n",
    "\n",
    "4. How many New Customers (first purchase in current year) in 2022?\n",
    "\n",
    "5. Which insights can you extract from these indicators? (Feel free to add any visualization / support analysis you see fit)\n",
    "   \n"
   ]
  },
  {
   "cell_type": "code",
   "execution_count": null,
   "metadata": {},
   "outputs": [],
   "source": []
  }
 ],
 "metadata": {
  "kernelspec": {
   "display_name": "Python 3.10.1 64-bit",
   "language": "python",
   "name": "python3"
  },
  "language_info": {
   "codemirror_mode": {
    "name": "ipython",
    "version": 3
   },
   "file_extension": ".py",
   "mimetype": "text/x-python",
   "name": "python",
   "nbconvert_exporter": "python",
   "pygments_lexer": "ipython3",
   "version": "3.10.1"
  },
  "orig_nbformat": 4,
  "vscode": {
   "interpreter": {
    "hash": "aee8b7b246df8f9039afb4144a1f6fd8d2ca17a180786b69acc140d282b71a49"
   }
  }
 },
 "nbformat": 4,
 "nbformat_minor": 2
}
