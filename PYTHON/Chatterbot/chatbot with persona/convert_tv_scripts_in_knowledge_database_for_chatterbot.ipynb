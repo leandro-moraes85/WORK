{
 "cells": [
  {
   "cell_type": "code",
   "execution_count": 64,
   "id": "b659e6c7",
   "metadata": {},
   "outputs": [],
   "source": [
    "with open('102.txt', 'r') as infile:\n",
    "    with open('102a.txt', 'w') as outfile:\n",
    "        for line in infile:\n",
    "            remove_tabs = line.replace('\\t', '')\n",
    "            outfile.write(remove_tabs)\n",
    "            \n",
    "\n"
   ]
  },
  {
   "cell_type": "code",
   "execution_count": 65,
   "id": "e1a0bd76",
   "metadata": {},
   "outputs": [],
   "source": [
    "with open('102a.txt', 'r') as infile:\n",
    "    with open('102b.txt', 'w') as outfile:\n",
    "        for line in infile:\n",
    "            replace_bar = line.replace('/', '_')\n",
    "            outfile.write(replace_bar)"
   ]
  },
  {
   "cell_type": "code",
   "execution_count": 66,
   "id": "c6333478",
   "metadata": {},
   "outputs": [],
   "source": [
    "with open('102c.txt', 'r') as f, open('102d.txt', 'w') as new_f:\n",
    "    for line in f:\n",
    "        ##add here the voice overs\n",
    "        for PICARD_VO in ['PICARD V.O.']:\n",
    "            if line.startswith(PICARD_VO):\n",
    "                line = line.replace(PICARD_VO, 'A_PICARD_V.O. / ')\n",
    "        ##add here the characters from the episode\n",
    "        for word in ['DATA', 'LAFORGE', 'BEVERLY', 'CONN', 'GEORDI', 'MEDIC', 'PICARD', 'RIKER', 'TASHA', 'TROI', 'WORF', 'WESLEY', '\"Q\"', 'ZORN', \"PICARD'S INTERCOM VOICE\"]:\n",
    "            if line.startswith(word):\n",
    "                line = line.replace(word, word + ' / ')\n",
    "        new_f.write(line)"
   ]
  },
  {
   "cell_type": "code",
   "execution_count": 69,
   "id": "9470cea9",
   "metadata": {},
   "outputs": [],
   "source": [
    "with open('102d.txt', 'r') as file:\n",
    "    lines = file.readlines()\n",
    "\n",
    "with open('102e.txt', 'w') as file:\n",
    "    for line in lines:\n",
    "        if '/' in line:\n",
    "            file.write(line)"
   ]
  },
  {
   "cell_type": "code",
   "execution_count": 71,
   "id": "8e6d6470",
   "metadata": {},
   "outputs": [
    {
     "ename": "Exception",
     "evalue": "Attempt to overwrite cell: sheetname='Sheet1' rowx=0 colx=1",
     "output_type": "error",
     "traceback": [
      "\u001b[1;31m---------------------------------------------------------------------------\u001b[0m",
      "\u001b[1;31mException\u001b[0m                                 Traceback (most recent call last)",
      "\u001b[1;32m~\\AppData\\Local\\Temp\\ipykernel_25588\\2311708718.py\u001b[0m in \u001b[0;36m<module>\u001b[1;34m\u001b[0m\n\u001b[0;32m     16\u001b[0m         \u001b[0mrow\u001b[0m \u001b[1;33m=\u001b[0m \u001b[1;36m0\u001b[0m\u001b[1;33m\u001b[0m\u001b[1;33m\u001b[0m\u001b[0m\n\u001b[0;32m     17\u001b[0m     \u001b[1;32melse\u001b[0m\u001b[1;33m:\u001b[0m\u001b[1;33m\u001b[0m\u001b[1;33m\u001b[0m\u001b[0m\n\u001b[1;32m---> 18\u001b[1;33m         \u001b[0mworksheet\u001b[0m\u001b[1;33m.\u001b[0m\u001b[0mwrite\u001b[0m\u001b[1;33m(\u001b[0m\u001b[0mrow\u001b[0m\u001b[1;33m,\u001b[0m \u001b[0mcol\u001b[0m\u001b[1;33m,\u001b[0m \u001b[0mline\u001b[0m\u001b[1;33m)\u001b[0m\u001b[1;33m\u001b[0m\u001b[1;33m\u001b[0m\u001b[0m\n\u001b[0m\u001b[0;32m     19\u001b[0m         \u001b[0mrow\u001b[0m \u001b[1;33m+=\u001b[0m \u001b[1;36m1\u001b[0m\u001b[1;33m\u001b[0m\u001b[1;33m\u001b[0m\u001b[0m\n\u001b[0;32m     20\u001b[0m \u001b[1;33m\u001b[0m\u001b[0m\n",
      "\u001b[1;32m~\\AppData\\Roaming\\Python\\Python39\\site-packages\\xlwt\\Worksheet.py\u001b[0m in \u001b[0;36mwrite\u001b[1;34m(self, r, c, label, style)\u001b[0m\n\u001b[0;32m   1086\u001b[0m            \u001b[1;33m:\u001b[0m\u001b[1;32mclass\u001b[0m\u001b[1;33m:\u001b[0m\u001b[0;31m`\u001b[0m\u001b[1;33m~\u001b[0m\u001b[0mxlwt\u001b[0m\u001b[1;33m.\u001b[0m\u001b[0mStyle\u001b[0m\u001b[1;33m.\u001b[0m\u001b[0mXFStyle\u001b[0m\u001b[0;31m`\u001b[0m \u001b[0mobject\u001b[0m\u001b[1;33m.\u001b[0m\u001b[1;33m\u001b[0m\u001b[1;33m\u001b[0m\u001b[0m\n\u001b[0;32m   1087\u001b[0m         \"\"\"\n\u001b[1;32m-> 1088\u001b[1;33m         \u001b[0mself\u001b[0m\u001b[1;33m.\u001b[0m\u001b[0mrow\u001b[0m\u001b[1;33m(\u001b[0m\u001b[0mr\u001b[0m\u001b[1;33m)\u001b[0m\u001b[1;33m.\u001b[0m\u001b[0mwrite\u001b[0m\u001b[1;33m(\u001b[0m\u001b[0mc\u001b[0m\u001b[1;33m,\u001b[0m \u001b[0mlabel\u001b[0m\u001b[1;33m,\u001b[0m \u001b[0mstyle\u001b[0m\u001b[1;33m)\u001b[0m\u001b[1;33m\u001b[0m\u001b[1;33m\u001b[0m\u001b[0m\n\u001b[0m\u001b[0;32m   1089\u001b[0m \u001b[1;33m\u001b[0m\u001b[0m\n\u001b[0;32m   1090\u001b[0m     \u001b[1;32mdef\u001b[0m \u001b[0mwrite_rich_text\u001b[0m\u001b[1;33m(\u001b[0m\u001b[0mself\u001b[0m\u001b[1;33m,\u001b[0m \u001b[0mr\u001b[0m\u001b[1;33m,\u001b[0m \u001b[0mc\u001b[0m\u001b[1;33m,\u001b[0m \u001b[0mrich_text_list\u001b[0m\u001b[1;33m,\u001b[0m \u001b[0mstyle\u001b[0m\u001b[1;33m=\u001b[0m\u001b[0mStyle\u001b[0m\u001b[1;33m.\u001b[0m\u001b[0mdefault_style\u001b[0m\u001b[1;33m)\u001b[0m\u001b[1;33m:\u001b[0m\u001b[1;33m\u001b[0m\u001b[1;33m\u001b[0m\u001b[0m\n",
      "\u001b[1;32m~\\AppData\\Roaming\\Python\\Python39\\site-packages\\xlwt\\Row.py\u001b[0m in \u001b[0;36mwrite\u001b[1;34m(self, col, label, style)\u001b[0m\n\u001b[0;32m    232\u001b[0m         \u001b[1;32mif\u001b[0m \u001b[0misinstance\u001b[0m\u001b[1;33m(\u001b[0m\u001b[0mlabel\u001b[0m\u001b[1;33m,\u001b[0m \u001b[0mbasestring\u001b[0m\u001b[1;33m)\u001b[0m\u001b[1;33m:\u001b[0m\u001b[1;33m\u001b[0m\u001b[1;33m\u001b[0m\u001b[0m\n\u001b[0;32m    233\u001b[0m             \u001b[1;32mif\u001b[0m \u001b[0mlen\u001b[0m\u001b[1;33m(\u001b[0m\u001b[0mlabel\u001b[0m\u001b[1;33m)\u001b[0m \u001b[1;33m>\u001b[0m \u001b[1;36m0\u001b[0m\u001b[1;33m:\u001b[0m\u001b[1;33m\u001b[0m\u001b[1;33m\u001b[0m\u001b[0m\n\u001b[1;32m--> 234\u001b[1;33m                 self.insert_cell(col,\n\u001b[0m\u001b[0;32m    235\u001b[0m                     \u001b[0mStrCell\u001b[0m\u001b[1;33m(\u001b[0m\u001b[0mself\u001b[0m\u001b[1;33m.\u001b[0m\u001b[0m__idx\u001b[0m\u001b[1;33m,\u001b[0m \u001b[0mcol\u001b[0m\u001b[1;33m,\u001b[0m \u001b[0mstyle_index\u001b[0m\u001b[1;33m,\u001b[0m \u001b[0mself\u001b[0m\u001b[1;33m.\u001b[0m\u001b[0m__parent_wb\u001b[0m\u001b[1;33m.\u001b[0m\u001b[0madd_str\u001b[0m\u001b[1;33m(\u001b[0m\u001b[0mlabel\u001b[0m\u001b[1;33m)\u001b[0m\u001b[1;33m)\u001b[0m\u001b[1;33m\u001b[0m\u001b[1;33m\u001b[0m\u001b[0m\n\u001b[0;32m    236\u001b[0m                     )\n",
      "\u001b[1;32m~\\AppData\\Roaming\\Python\\Python39\\site-packages\\xlwt\\Row.py\u001b[0m in \u001b[0;36minsert_cell\u001b[1;34m(self, col_index, cell_obj)\u001b[0m\n\u001b[0;32m    152\u001b[0m                 \u001b[0mmsg\u001b[0m \u001b[1;33m=\u001b[0m \u001b[1;34m\"Attempt to overwrite cell: sheetname=%r rowx=%d colx=%d\"\u001b[0m\u001b[0;31m \u001b[0m\u001b[0;31m\\\u001b[0m\u001b[1;33m\u001b[0m\u001b[1;33m\u001b[0m\u001b[0m\n\u001b[0;32m    153\u001b[0m                     \u001b[1;33m%\u001b[0m \u001b[1;33m(\u001b[0m\u001b[0mself\u001b[0m\u001b[1;33m.\u001b[0m\u001b[0m__parent\u001b[0m\u001b[1;33m.\u001b[0m\u001b[0mname\u001b[0m\u001b[1;33m,\u001b[0m \u001b[0mself\u001b[0m\u001b[1;33m.\u001b[0m\u001b[0m__idx\u001b[0m\u001b[1;33m,\u001b[0m \u001b[0mcol_index\u001b[0m\u001b[1;33m)\u001b[0m\u001b[1;33m\u001b[0m\u001b[1;33m\u001b[0m\u001b[0m\n\u001b[1;32m--> 154\u001b[1;33m                 \u001b[1;32mraise\u001b[0m \u001b[0mException\u001b[0m\u001b[1;33m(\u001b[0m\u001b[0mmsg\u001b[0m\u001b[1;33m)\u001b[0m\u001b[1;33m\u001b[0m\u001b[1;33m\u001b[0m\u001b[0m\n\u001b[0m\u001b[0;32m    155\u001b[0m             \u001b[0mprev_cell_obj\u001b[0m \u001b[1;33m=\u001b[0m \u001b[0mself\u001b[0m\u001b[1;33m.\u001b[0m\u001b[0m__cells\u001b[0m\u001b[1;33m[\u001b[0m\u001b[0mcol_index\u001b[0m\u001b[1;33m]\u001b[0m\u001b[1;33m\u001b[0m\u001b[1;33m\u001b[0m\u001b[0m\n\u001b[0;32m    156\u001b[0m             \u001b[0msst_idx\u001b[0m \u001b[1;33m=\u001b[0m \u001b[0mgetattr\u001b[0m\u001b[1;33m(\u001b[0m\u001b[0mprev_cell_obj\u001b[0m\u001b[1;33m,\u001b[0m \u001b[1;34m'sst_idx'\u001b[0m\u001b[1;33m,\u001b[0m \u001b[1;32mNone\u001b[0m\u001b[1;33m)\u001b[0m\u001b[1;33m\u001b[0m\u001b[1;33m\u001b[0m\u001b[0m\n",
      "\u001b[1;31mException\u001b[0m: Attempt to overwrite cell: sheetname='Sheet1' rowx=0 colx=1"
     ]
    }
   ],
   "source": [
    "import xlwt\n",
    "\n",
    "with open('102e.txt', 'r') as file:\n",
    "    lines = file.readlines()\n",
    "\n",
    "workbook = xlwt.Workbook(encoding='utf-8')\n",
    "worksheet = workbook.add_sheet('Sheet1')\n",
    "\n",
    "row = 0\n",
    "col = 0\n",
    "\n",
    "for i in range(len(lines)):\n",
    "    line = lines[i].strip()\n",
    "    if line.startswith('PICARD'):\n",
    "        col = 1\n",
    "        row = 0\n",
    "    else:\n",
    "        worksheet.write(row, col, line)\n",
    "        row += 1\n",
    "\n",
    "workbook.save('picard_persona.xls')"
   ]
  },
  {
   "cell_type": "code",
   "execution_count": 77,
   "id": "12c82699",
   "metadata": {},
   "outputs": [],
   "source": [
    "import openpyxl\n",
    "\n",
    "# Open the text file for reading\n",
    "with open('102e.txt', 'r') as file:\n",
    "    # Initialize variables for row and column indices\n",
    "    row_idx = 1\n",
    "    col_idx = 1\n",
    "\n",
    "    # Create a new workbook and worksheet\n",
    "    workbook = openpyxl.Workbook()\n",
    "    worksheet = workbook.active\n",
    "\n",
    "    # Iterate over the lines in the text file\n",
    "    for line in file:\n",
    "        # Strip any whitespace characters from the line\n",
    "        line = line.strip()\n",
    "\n",
    "        # If the line starts with 'PICARD', write it to column B\n",
    "        if line.startswith('PICARD'):\n",
    "            worksheet.cell(row=row_idx, column=col_idx+1, value=line)\n",
    "        # Otherwise, write it to column A\n",
    "        else:\n",
    "            worksheet.cell(row=row_idx, column=col_idx, value=line)\n",
    "\n",
    "        # Increment the row index for the next line\n",
    "        row_idx += 1\n",
    "\n",
    "    # Save the workbook to a new xlsx file\n",
    "    workbook.save('picard_persona.xlsx')\n"
   ]
  },
  {
   "cell_type": "code",
   "execution_count": 81,
   "id": "86369936",
   "metadata": {},
   "outputs": [],
   "source": [
    "import openpyxl\n",
    "\n",
    "# Open the Excel file\n",
    "wb = openpyxl.load_workbook('picard_persona.xlsx')\n",
    "\n",
    "# Select the first worksheet\n",
    "ws = wb.active\n",
    "\n",
    "# Iterate over the rows in the worksheet\n",
    "for row in ws.iter_rows():\n",
    "\n",
    "    # Check if the cell in column A is empty and the cell in column B is not empty\n",
    "    if row[0].value is None and row[1].value is not None:\n",
    "\n",
    "        # Copy the value from column B to column A in the row above\n",
    "        ws.cell(row=row[0].row - 1, column=2).value = row[1].value\n",
    "\n",
    "        # Delete the current row\n",
    "        ws.delete_rows(row[0].row)\n",
    "\n",
    "# Save the updated Excel file\n",
    "wb.save('picard_persona_A.xlsx')\n",
    "\n"
   ]
  },
  {
   "cell_type": "code",
   "execution_count": 83,
   "id": "f648db4b",
   "metadata": {},
   "outputs": [],
   "source": [
    "import openpyxl\n",
    "\n",
    "# Load input file\n",
    "wb = openpyxl.load_workbook('picard_persona_B.xlsx')\n",
    "ws = wb.active\n",
    "\n",
    "# Iterate over all cells and modify contents\n",
    "for row in ws.iter_rows():\n",
    "    for cell in row:\n",
    "        # Check if cell contains '/'\n",
    "        if '/' in str(cell.value):\n",
    "            # Split cell value at the first occurrence of '/'\n",
    "            cell.value = cell.value.split('/', 1)[1]\n",
    "\n",
    "# Save modified data to output file\n",
    "wb.save('picard_persona_C.xlsx')"
   ]
  },
  {
   "cell_type": "code",
   "execution_count": null,
   "id": "d53590fc",
   "metadata": {},
   "outputs": [],
   "source": []
  }
 ],
 "metadata": {
  "kernelspec": {
   "display_name": "Python 3 (ipykernel)",
   "language": "python",
   "name": "python3"
  },
  "language_info": {
   "codemirror_mode": {
    "name": "ipython",
    "version": 3
   },
   "file_extension": ".py",
   "mimetype": "text/x-python",
   "name": "python",
   "nbconvert_exporter": "python",
   "pygments_lexer": "ipython3",
   "version": "3.9.13"
  }
 },
 "nbformat": 4,
 "nbformat_minor": 5
}
